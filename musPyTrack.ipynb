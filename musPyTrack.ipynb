{
 "cells": [
  {
   "cell_type": "code",
   "execution_count": 1,
   "metadata": {},
   "outputs": [],
   "source": [
    "import numpy as np\n",
    "from scipy.ndimage.filters import maximum_filter\n",
    "from scipy.ndimage.morphology import generate_binary_structure, binary_erosion\n",
    "import matplotlib.pyplot as pp\n",
    "from scipy.signal import find_peaks\n",
    "from __future__ import division, unicode_literals, print_function  # for compatibility with Python 2 and 3\n",
    "import matplotlib as mpl\n",
    "import math\n",
    "from operator import add\n",
    "import pandas as pd\n",
    "from pandas import DataFrame, Series  # for convenience\n",
    "import pims\n",
    "import trackpy as tp\n",
    "from skimage.feature import peak_local_max\n",
    "from scipy.ndimage.morphology import distance_transform_edt as edt\n",
    "from IPython.display import clear_output\n",
    "import timeit\n",
    "\n",
    "# Optionally, tweak styles.\n",
    "mpl.rc('figure',  figsize=(20, 20))\n",
    "mpl.rc('image', cmap='gray')\n",
    "# change the following to %matplotlib notebook for interactive plotting\n",
    "%matplotlib inline\n",
    "\n",
    "def collect(x, y, sigma):\n",
    "    neighborhood = []\n",
    "    X = int(sigma)\n",
    "    for i in range(-X, X + 1):\n",
    "        Y = int(pow(sigma * sigma - i * i, 1/2))\n",
    "        for j in range(-Y, Y + 1):\n",
    "            neighborhood.append((x + i, y + j))\n",
    "    return neighborhood\n",
    "\n",
    "#Image Loading\n",
    "str1 = 'images/'\n",
    "date = '05_04_19'\n",
    "name = '30uL_In_dots_spundown_retest_dish2_kgluc_added_frame_80_150ms'\n",
    "other = '/jpgs/'# non_normalised for dots, dyeChannel for dyes\n",
    "extension = '*.jpg'\n",
    "path = str1+date+'/'+name+other+extension\n",
    "\n",
    "frames = pims.ImageSequence(path, as_grey=True)"
   ]
  },
  {
   "cell_type": "code",
   "execution_count": 14,
   "metadata": {},
   "outputs": [
    {
     "name": "stdout",
     "output_type": "stream",
     "text": [
      "184\n"
     ]
    }
   ],
   "source": [
    "total_frames = len(frames)\n",
    "\n",
    "image1= np.int64(frames[0])\n",
    "for frameNum in range(1, total_frames-1):\n",
    "    image1 = image1-np.int64(frames[frameNum])\n",
    "\n",
    "image1[image1 > np.amin(image1)*0.5] = 0\n",
    "\n",
    "#image1= np.float64(frames[0])\n",
    "#for frameNum in range(1, total_frames-1):\n",
    "#    image1 = np.sum([image1,np.int64(frames[frameNum])],axis=0)\n",
    "#image1[image1 > np.amin(image1)*0.5] = 0    \n",
    "\n",
    "#image1 = image1*-1\n",
    "#image1 = image1/image1.max()\n",
    "#image1 = np.array(image1 * 255, dtype = np.uint8)\n",
    "#image1 = np.stack((image1,)*3, axis=-1)\n",
    "\n",
    "im = edt(image1)\n",
    "roi_size = 15\n",
    "\n",
    "#im = edt(np.abs(image1-1))\n",
    "\n",
    "coordinates = peak_local_max(im, min_distance=roi_size*3,threshold_rel = 0.15)\n",
    "\n",
    "print(len(coordinates))\n",
    "\n",
    "good_coordinates = coordinates#[np.array([0,10,11,12,13,14,15,17,20,24,28,36,37,38])]\n",
    "\n",
    "total_particles = len(good_coordinates)\n",
    "particle_index = np.linspace(0,total_particles-1,total_particles,dtype='int')\n",
    "particle_coords = [0] * total_frames\n",
    "particle_roi_dict = dict(zip(particle_index, particle_coords))\n",
    "\n",
    "for index, shift in enumerate(good_coordinates):\n",
    "    current_coords = [0,0]\n",
    "    centre_x = shift[1]\n",
    "    centre_y = shift[0] \n",
    "    particle_roi_dict[index] = collect(int(centre_x), int(centre_y), roi_size)"
   ]
  },
  {
   "cell_type": "code",
   "execution_count": 6,
   "metadata": {},
   "outputs": [
    {
     "name": "stdout",
     "output_type": "stream",
     "text": [
      "184\n"
     ]
    },
    {
     "data": {
      "image/png": "[encoded data removed]",
      "text/plain": [
       "<Figure size 432x288 with 1 Axes>"
      ]
     },
     "metadata": {
      "needs_background": "light"
     },
     "output_type": "display_data"
    }
   ],
   "source": [
    "pp.figure()\n",
    "pp.imshow(image1, cmap=pp.cm.gray)\n",
    "pp.autoscale(False)\n",
    "pp.axis('off')\n",
    "\n",
    "print(len(good_coordinates))\n",
    "\n",
    "pp.plot(good_coordinates[:,1],good_coordinates[:,0],'r,')\n",
    "\n",
    "z=0\n",
    "for xy in zip(good_coordinates[:,1], good_coordinates[:,0]):                                      \n",
    "    pp.annotate(str(z), xy=xy,color='white',xytext=xy) \n",
    "    z = z+1"
   ]
  },
  {
   "cell_type": "code",
   "execution_count": 11,
   "metadata": {},
   "outputs": [
    {
     "name": "stdout",
     "output_type": "stream",
     "text": [
      "Current progress: 99.71 %\n",
      "Current run time: 0.22 minutes\n",
      "Expected run time: 0.22 minutes\n"
     ]
    }
   ],
   "source": [
    "noParticles = len(particle_roi_dict)\n",
    "\n",
    "frame_index = np.linspace(0,total_frames-1,total_frames,dtype='int')\n",
    "frame_intensity = [0] * total_frames\n",
    "overall_dict = dict(zip(frame_index, frame_intensity))\n",
    "\n",
    "#subsection = frames[:5]\n",
    "\n",
    "start = timeit.default_timer()\n",
    "\n",
    "#for key0, value0 in enumerate(particle_roi_dict):  #Key0: particle number\n",
    "#    clear_output(wait=True)    \n",
    "#    current_particle_intensity = 0\n",
    "#    particle_dict = dict()\n",
    "#    for key1, value1 in enumerate(frames): #key1: frame number, value1: frame info\n",
    "#        #current_particle_intensity = 0\n",
    "#        #for key2, value2 in enumerate(particle_roi_dict[key0]):  #key2: particle coord index, value2: particle roi coord\n",
    "#        #    current_particle_intensity = current_particle_intensity + value1[value2[0]][value2[1]] #intensity for one ROI in one frame\n",
    "#        #particle_dict[key1] = current_particle_intensity\n",
    "#        a = np.asarray(particle_roi_dict[key0])\n",
    "#        particle_dict[key1] = np.sum(value1[a[:,0],a[:,1]])\n",
    "#    overall_dict[key0] = particle_dict\n",
    "    \n",
    "for key1, value1 in enumerate(frames): #key1: frame number, value1: frame info\n",
    "    clear_output(wait=True)\n",
    "    current_particle_intensity = 0\n",
    "    particle_dict = dict()\n",
    "    for key0, value0 in enumerate(particle_roi_dict): #Key0: particle number\n",
    "        a = np.asarray(particle_roi_dict[key0])\n",
    "        particle_dict[key0] = np.sum(value1[a[:,0],a[:,1]])\n",
    "    overall_dict[key1] = particle_dict\n",
    "        \n",
    "    stop = timeit.default_timer()\n",
    "    if (key1/len(frames)*100) <5 :\n",
    "        expected_time = \"Calculating...\"\n",
    "    else:\n",
    "        time_perc = timeit.default_timer()\n",
    "        expected_time = np.round(((time_perc-start)/(key1/len(frames)))/60,2)\n",
    "    print(\"Current progress:\",np.round(key1/len(frames)*100,2),\"%\")\n",
    "    print(\"Current run time:\",np.round((stop-start)/60,2),\"minutes\")\n",
    "    print(\"Expected run time:\",expected_time,\"minutes\")\n",
    "    \n",
    "new_overall_dict = dict()\n",
    "for key0 in range(0,len(overall_dict[0])): #key1: particle number\n",
    "    new_current_particle = dict()\n",
    "    for key1 in range(0,len(overall_dict)): #key1: frame number\n",
    "        new_current_particle[key1]=overall_dict[key1][key0]\n",
    "    new_overall_dict[key0] = new_current_particle\n",
    "    "
   ]
  },
  {
   "cell_type": "code",
   "execution_count": 204,
   "metadata": {},
   "outputs": [],
   "source": [
    "for particle in range(0, noParticles): \n",
    "    fig = pp.figure()\n",
    "    ax = pp.axes()\n",
    "    ax.plot(new_overall_dict[particle].keys(), new_overall_dict[particle].values());\n",
    "    fig.savefig(str(particle)+'.png', bbox_inches='tight')\n",
    "    pp.close('all')"
   ]
  },
  {
   "cell_type": "code",
   "execution_count": 12,
   "metadata": {},
   "outputs": [
    {
     "data": {
      "image/png": "[encoded data removed]",
      "text/plain": [
       "<Figure size 432x288 with 1 Axes>"
      ]
     },
     "metadata": {
      "needs_background": "light"
     },
     "output_type": "display_data"
    }
   ],
   "source": [
    "particle = 181\n",
    "pp.plot(overall_dict[particle].keys(), overall_dict[particle].values());"
   ]
  },
  {
   "cell_type": "code",
   "execution_count": 25,
   "metadata": {},
   "outputs": [
    {
     "name": "stdout",
     "output_type": "stream",
     "text": [
      "[[1626  102]\n",
      " [1627   97]\n",
      " [1627   98]\n",
      " ...\n",
      " [1655  106]\n",
      " [1655  107]\n",
      " [1656  102]]\n"
     ]
    }
   ],
   "source": [
    "a = np.asarray(particle_roi_dict[key0])\n",
    "print(a)"
   ]
  }
 ],
 "metadata": {
  "kernelspec": {
   "display_name": "Python 3",
   "language": "python",
   "name": "python3"
  },
  "language_info": {
   "codemirror_mode": {
    "name": "ipython",
    "version": 2
   },
   "file_extension": ".py",
   "mimetype": "text/x-python",
   "name": "python",
   "nbconvert_exporter": "python",
   "pygments_lexer": "ipython2",
   "version": "2.7.15"
  }
 },
 "nbformat": 4,
 "nbformat_minor": 2
}
