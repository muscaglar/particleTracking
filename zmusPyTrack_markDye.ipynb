{
 "cells": [
  {
   "cell_type": "code",
   "execution_count": 1,
   "metadata": {},
   "outputs": [],
   "source": [
    "import numpy as np\n",
    "from scipy.ndimage.filters import maximum_filter\n",
    "from scipy.ndimage.morphology import generate_binary_structure, binary_erosion\n",
    "import matplotlib.pyplot as pp\n",
    "from scipy.signal import find_peaks\n",
    "from __future__ import division, unicode_literals, print_function  # for compatibility with Python 2 and 3\n",
    "import matplotlib as mpl\n",
    "import math\n",
    "from operator import add\n",
    "import pandas as pd\n",
    "from pandas import DataFrame, Series  # for convenience\n",
    "import pims\n",
    "import trackpy as tp\n",
    "from skimage.feature import peak_local_max\n",
    "from scipy.ndimage.morphology import distance_transform_edt as edt\n",
    "from IPython.display import clear_output\n",
    "import timeit\n",
    "import cv2\n",
    "import skvideo.io\n",
    "from PIL import Image\n",
    "from cv2 import VideoWriter, VideoWriter_fourcc\n",
    "from scipy.signal import find_peaks\n",
    "import peakutils\n",
    "import png #pip install pypng\n",
    "import os\n",
    "\n",
    "# Optionally, tweak styles.\n",
    "mpl.rc('figure',  figsize=(20, 20))\n",
    "mpl.rc('image', cmap='gray')\n",
    "# change the following to %matplotlib notebook for interactive plotting\n",
    "%matplotlib inline\n",
    "\n",
    "#Image Loading\n",
    "str1 = 'images/'\n",
    "date = '25_03_19'\n",
    "name = 'Cd_dots and gCAMP_dish2/mov1'\n",
    "other = '/ch02/'# non_normalised for dots, dyeChannel for dyes\n",
    "extension = '*.tif'\n",
    "path = str1+date+'/'+name+other+extension\n",
    "\n",
    "frames = pims.ImageSequence(path, as_grey=True)"
   ]
  },
  {
   "cell_type": "code",
   "execution_count": 2,
   "metadata": {},
   "outputs": [],
   "source": [
    "total_frames = len(frames)\n",
    "\n",
    "image1= np.int64(frames[0])\n",
    "for frameNum in range(1, total_frames-1):\n",
    "    image1 = image1-np.int64(frames[frameNum])\n",
    "\n",
    "image1[image1 > np.amin(image1)*0.1] = 0\n",
    "image1[image1 < np.amin(image1)*0.9] = 0\n",
    "im = edt(image1)\n",
    "   \n",
    "roi_size = 8\n",
    "\n",
    "coordinates = peak_local_max(im, min_distance=roi_size*1,threshold_rel = 0.02)\n",
    "\n",
    "def collect(x, y, sigma):\n",
    "    neighborhood = []\n",
    "    X = int(sigma)\n",
    "    for i in range(-X, X + 1):\n",
    "        Y = int(pow(sigma * sigma - i * i, 1/2))\n",
    "        for j in range(-Y, Y + 1):\n",
    "            neighborhood.append((x + i, y + j))\n",
    "    return neighborhood\n",
    "\n",
    "good_coordinates = coordinates[np.array([65,121,120,84,100,99,96])]\n",
    "#good_coordinates = coordinates#[np.array([0,10,11,12,13,14,15,17,20,24,28,36,37,38])]\n",
    "\n",
    "total_particles = len(good_coordinates)\n",
    "particle_index = np.linspace(0,total_particles-1,total_particles,dtype='int')\n",
    "particle_coords = [0] * total_frames\n",
    "particle_roi_dict = dict(zip(particle_index, particle_coords))\n",
    "\n",
    "for index, shift in enumerate(good_coordinates):\n",
    "    current_coords = [0,0]\n",
    "    centre_x = shift[1]\n",
    "    centre_y = shift[0] \n",
    "    particle_roi_dict[index] = collect(int(centre_x), int(centre_y), roi_size)"
   ]
  },
  {
   "cell_type": "code",
   "execution_count": 3,
   "metadata": {},
   "outputs": [],
   "source": [
    "# Dye Work:\n",
    "\n",
    "#Image Loading\n",
    "str1 = 'images/'\n",
    "date = '25_03_19'\n",
    "name = 'Cd_dots and gCAMP_dish2/mov1'\n",
    "other = '/ch00/'# non_normalised for dots, dyeChannel for dyes\n",
    "extension = '*.tif'\n",
    "path = str1+date+'/'+name+other+extension\n",
    "\n",
    "frames = pims.ImageSequence(path, as_grey=True)\n",
    "\n",
    "\n",
    "for key1, value1 in enumerate(frames):\n",
    "    fig = pp.figure()\n",
    "    pp.imshow(value1, cmap=pp.cm.gray)\n",
    "    pp.autoscale(False)\n",
    "    pp.axis('off')\n",
    "    pp.plot(good_coordinates[:,1],good_coordinates[:,0],'r,')\n",
    "    for xy in zip(good_coordinates[:,1], good_coordinates[:,0]):                                      \n",
    "        pp.annotate('X', xy=xy,color='white',xytext=xy)\n",
    "    path = \"videos/\"\n",
    "    fname = str(key1)+\".png\"\n",
    "    fig.savefig(path+fname, bbox_inches='tight',dpi = 200)\n",
    "    pp.close('all')"
   ]
  },
  {
   "cell_type": "code",
   "execution_count": 4,
   "metadata": {},
   "outputs": [
    {
     "data": {
      "text/plain": [
       "83"
      ]
     },
     "execution_count": 4,
     "metadata": {},
     "output_type": "execute_result"
    }
   ],
   "source": [
    "len(frames)"
   ]
  },
  {
   "cell_type": "code",
   "execution_count": 5,
   "metadata": {},
   "outputs": [
    {
     "name": "stdout",
     "output_type": "stream",
     "text": [
      "7\n"
     ]
    },
    {
     "data": {
      "image/png": "[encoded data removed]",
      "text/plain": [
       "<Figure size 432x288 with 1 Axes>"
      ]
     },
     "metadata": {
      "needs_background": "light"
     },
     "output_type": "display_data"
    }
   ],
   "source": [
    "pp.figure()\n",
    "pp.imshow(im, cmap=pp.cm.gray)\n",
    "pp.autoscale(False)\n",
    "pp.axis('off')\n",
    "\n",
    "print(len(good_coordinates))\n",
    "\n",
    "pp.plot(good_coordinates[:,1],good_coordinates[:,0],'r,')\n",
    "\n",
    "z=0\n",
    "for xy in zip(good_coordinates[:,1], good_coordinates[:,0]):                                      \n",
    "    pp.annotate(str(z), xy=xy,color='white',xytext=xy) \n",
    "    z = z+1"
   ]
  },
  {
   "cell_type": "code",
   "execution_count": 288,
   "metadata": {},
   "outputs": [
    {
     "name": "stdout",
     "output_type": "stream",
     "text": [
      "Current progress: 99.71 %\n",
      "Current run time: 0.33 minutes\n",
      "Expected run time: 0.33 minutes\n"
     ]
    }
   ],
   "source": [
    "# noParticles = len(particle_roi_dict)\n",
    "\n",
    "frame_index = np.linspace(0,total_frames-1,total_frames,dtype='int')\n",
    "frame_intensity = [0] * total_frames\n",
    "overall_dict = dict(zip(frame_index, frame_intensity))\n",
    "\n",
    "start = timeit.default_timer()\n",
    "   \n",
    "for key1, value1 in enumerate(frames): #key1: frame number, value1: frame info\n",
    "    clear_output(wait=True)\n",
    "    current_particle_intensity = 0\n",
    "    particle_dict = dict()\n",
    "    for key0, value0 in enumerate(particle_roi_dict): #Key0: particle number\n",
    "        a = np.asarray(particle_roi_dict[key0])\n",
    "        particle_dict[key0] = np.sum(value1[a[:,0],a[:,1]])\n",
    "    overall_dict[key1] = particle_dict\n",
    "        \n",
    "    stop = timeit.default_timer()\n",
    "    if (key1/len(frames)*100) <5 :\n",
    "        expected_time = \"Calculating...\"\n",
    "    else:\n",
    "        time_perc = timeit.default_timer()\n",
    "        expected_time = np.round(((time_perc-start)/(key1/len(frames)))/60,2)\n",
    "    print(\"Current progress:\",np.round(key1/len(frames)*100,2),\"%\")\n",
    "    print(\"Current run time:\",np.round((stop-start)/60,2),\"minutes\")\n",
    "    print(\"Expected run time:\",expected_time,\"minutes\")\n",
    "    \n",
    "new_overall_dict = dict()\n",
    "for key0 in range(0,len(overall_dict[0])): #key1: particle number\n",
    "    new_current_particle = dict()\n",
    "    for key1 in range(0,len(overall_dict)): #key1: frame number\n",
    "        new_current_particle[key1]=overall_dict[key1][key0]\n",
    "    new_overall_dict[key0] = new_current_particle\n",
    "    "
   ]
  },
  {
   "cell_type": "code",
   "execution_count": 289,
   "metadata": {},
   "outputs": [],
   "source": [
    "summed_dict = dict()\n",
    "for key0, val0 in enumerate(overall_dict): #key1: particle number\n",
    "    summed_dict[key0] = sum(overall_dict[key0].values())"
   ]
  },
  {
   "cell_type": "code",
   "execution_count": 290,
   "metadata": {},
   "outputs": [
    {
     "data": {
      "text/plain": [
       "[<matplotlib.lines.Line2D at 0x7f67e49e3c90>]"
      ]
     },
     "execution_count": 290,
     "metadata": {},
     "output_type": "execute_result"
    },
    {
     "data": {
      "image/png": "[encoded data removed]",
      "text/plain": [
       "<Figure size 432x288 with 1 Axes>"
      ]
     },
     "metadata": {
      "needs_background": "light"
     },
     "output_type": "display_data"
    }
   ],
   "source": [
    "pp.plot(summed_dict.keys(),summed_dict.values())"
   ]
  },
  {
   "cell_type": "code",
   "execution_count": 291,
   "metadata": {},
   "outputs": [
    {
     "data": {
      "image/png": "[encoded data removed]",
      "text/plain": [
       "<Figure size 432x288 with 1 Axes>"
      ]
     },
     "metadata": {
      "needs_background": "light"
     },
     "output_type": "display_data"
    },
    {
     "data": {
      "text/plain": [
       "array([ 12,  48,  73,  76,  84,  87, 101, 116, 120, 163, 175, 181, 189,\n",
       "       203, 205, 222, 230, 233, 239, 242, 250, 258, 276, 281, 285, 289,\n",
       "       292, 294, 296, 300, 309, 314, 319, 324, 328, 334, 337])"
      ]
     },
     "execution_count": 291,
     "metadata": {},
     "output_type": "execute_result"
    }
   ],
   "source": [
    "dot_values = np.array(summed_dict.values())\n",
    "\n",
    "peaks, _ = find_peaks(dot_values, prominence=1000)\n",
    "\n",
    "dot_values_cut = np.subtract(dot_values,peakutils.baseline(dot_values))\n",
    "\n",
    "pp.plot(peaks, dot_values_cut[peaks], \"or\"); \n",
    "pp.plot(dot_values_cut); \n",
    "pp.legend(['prominence'])\n",
    "pp.show()\n",
    "peaks"
   ]
  },
  {
   "cell_type": "code",
   "execution_count": 292,
   "metadata": {},
   "outputs": [
    {
     "name": "stdout",
     "output_type": "stream",
     "text": [
      "2\n"
     ]
    }
   ],
   "source": [
    "print(grid_y)"
   ]
  },
  {
   "cell_type": "code",
   "execution_count": null,
   "metadata": {},
   "outputs": [
    {
     "name": "stdout",
     "output_type": "stream",
     "text": [
      "Current progress: 57.89 %\n",
      "Current run time: 21.01 minutes\n",
      "Expected run time: 36.29 minutes\n"
     ]
    }
   ],
   "source": [
    "coord_len = len(good_coordinates)-2\n",
    "grid_x = int(math.sqrt(coord_len))\n",
    "grid_y = int(coord_len/grid_x)\n",
    "roi_size = 20\n",
    "\n",
    "img_array = []\n",
    "f_x = []\n",
    "f_xy = []\n",
    "f = []\n",
    "start = timeit.default_timer()\n",
    "for indx in range(0,len(frames)-1):\n",
    "    clear_output(wait=True)\n",
    "    for g_y in range(0,grid_y):\n",
    "        for g_x in range(0,grid_x):         \n",
    "            coords = (g_x)+((g_y)*grid_y)\n",
    "            f = frames[indx][good_coordinates[coords][0]-roi_size:good_coordinates[coords][0]+roi_size, good_coordinates[coords][1]-roi_size:good_coordinates[coords][1]+roi_size]   \n",
    "            if f.size ==0:\n",
    "                coords = coords-1\n",
    "                f = frames[indx][good_coordinates[coords][0]-roi_size:good_coordinates[coords][0]+roi_size, good_coordinates[coords][1]-roi_size:good_coordinates[coords][1]+roi_size]\n",
    "            if g_x == 0:\n",
    "                f_x = f\n",
    "            else:\n",
    "                f_x = np.hstack([f_x,f])\n",
    "        if g_y ==0:\n",
    "            f_xy = f_x\n",
    "        else:\n",
    "            f_xy = np.vstack([f_xy,f_x])\n",
    "            f_x = []\n",
    "    img_array.append(f_xy)\n",
    "    f_xy = []\n",
    "    \n",
    "    stop = timeit.default_timer()\n",
    "    if (indx/(len(frames)-1)*100) <5 :\n",
    "        expected_time = \"Calculating...\"\n",
    "    else:\n",
    "        time_perc = timeit.default_timer()\n",
    "        expected_time = np.round(((time_perc-start)/(indx/len(frames)))/60,2)\n",
    "    print(\"Current progress:\",np.round(indx/len(frames)*100,2),\"%\")\n",
    "    print(\"Current run time:\",np.round((stop-start)/60,2),\"minutes\")\n",
    "    print(\"Expected run time:\",expected_time,\"minutes\")"
   ]
  },
  {
   "cell_type": "code",
   "execution_count": 296,
   "metadata": {},
   "outputs": [],
   "source": [
    "for i in range(len(img_array)):\n",
    "    #im = Image.fromarray(img_array[i])\n",
    "    #im = Image.fromarray(img_array[i], 'I')\n",
    "    path = \"videos/\"\n",
    "    fname = str(i)+\".png\"\n",
    "    #im.save(path+fname)\n",
    "    png.from_array(img_array[i], 'L').save(path+fname)"
   ]
  },
  {
   "cell_type": "code",
   "execution_count": null,
   "metadata": {},
   "outputs": [],
   "source": []
  }
 ],
 "metadata": {
  "kernelspec": {
   "display_name": "Python 3",
   "language": "python",
   "name": "python3"
  },
  "language_info": {
   "codemirror_mode": {
    "name": "ipython",
    "version": 2
   },
   "file_extension": ".py",
   "mimetype": "text/x-python",
   "name": "python",
   "nbconvert_exporter": "python",
   "pygments_lexer": "ipython2",
   "version": "2.7.15"
  }
 },
 "nbformat": 4,
 "nbformat_minor": 2
}
